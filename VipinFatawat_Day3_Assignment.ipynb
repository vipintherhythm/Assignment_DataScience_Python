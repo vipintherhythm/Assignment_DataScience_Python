{
  "nbformat": 4,
  "nbformat_minor": 0,
  "metadata": {
    "colab": {
      "name": "VipinFatawat_Day3_Assignment.ipynb",
      "provenance": [],
      "collapsed_sections": []
    },
    "kernelspec": {
      "name": "python3",
      "display_name": "Python 3"
    }
  },
  "cells": [
    {
      "cell_type": "code",
      "metadata": {
        "id": "p0pcApvtPDjk"
      },
      "source": [
        ""
      ],
      "execution_count": null,
      "outputs": []
    },
    {
      "cell_type": "code",
      "metadata": {
        "id": "cRt66Bm1PMIk",
        "outputId": "e5c0a88a-d8ed-4e82-8b0f-ca898c4f8c97",
        "colab": {
          "base_uri": "https://localhost:8080/"
        }
      },
      "source": [
        "#Question No 1\n",
        "# Create a numpy array starting from 2 till 50 with a stepsize of 3.\n",
        "\n",
        "import numpy as np #import numpy library with alias\n",
        "\n",
        "arr = np.arange(2,50,3) #Creating a numpy array which Starts from 2, End at 50 with interval of 3\n",
        "print (arr)\n",
        "\n"
      ],
      "execution_count": null,
      "outputs": [
        {
          "output_type": "stream",
          "text": [
            "[ 2  5  8 11 14 17 20 23 26 29 32 35 38 41 44 47]\n"
          ],
          "name": "stdout"
        }
      ]
    },
    {
      "cell_type": "code",
      "metadata": {
        "id": "sm5djy52R1vY",
        "outputId": "d04d23ab-0ea0-4aeb-9817-aad4889525a4",
        "colab": {
          "base_uri": "https://localhost:8080/"
        }
      },
      "source": [
        "#Question No 2\n",
        "#Accept two lists of 5 elements each from the user.Convert them to numpy arrays. Concatenate these arrays and print it. Also sort these arrays and print it.\n",
        "\n",
        "import numpy as np\n",
        "\n",
        "list1 = []\n",
        "for i in range(0,5):\n",
        "  n = int(input(\"Enter the element in List1 : \")) #Accept 5 Input from User\n",
        "  list1.append(n)\n",
        "  arr1=np.array(list1) # Converting to numpy array\n",
        "\n",
        "list2 = []\n",
        "for i in range(0,5):\n",
        "  m = int(input(\"Enter the element in List2 : \")) #Accept 5 Input from User\n",
        "  list2.append(m)\n",
        "  arr2=np.array(list2) # Converting to numpy array\n",
        "\n",
        "arr=np.concatenate((arr1, arr2)) # Concanating Both the numpy array\n",
        "arr.sort() # Sorting\n",
        "print(type(arr))\n",
        "print(\"The Final Concanated & sorted numpy array: \",arr) # Printing Final Result"
      ],
      "execution_count": null,
      "outputs": [
        {
          "output_type": "stream",
          "text": [
            "Enter the element in List1 : 0\n",
            "Enter the element in List1 : 9\n",
            "Enter the element in List1 : 8\n",
            "Enter the element in List1 : 7\n",
            "Enter the element in List1 : 6\n",
            "Enter the element in List2 : 5\n",
            "Enter the element in List2 : 4\n",
            "Enter the element in List2 : 3\n",
            "Enter the element in List2 : 2\n",
            "Enter the element in List2 : 1\n",
            "<class 'numpy.ndarray'>\n",
            "The Final Concanated & sorted numpy array:  [0 1 2 3 4 5 6 7 8 9]\n"
          ],
          "name": "stdout"
        }
      ]
    },
    {
      "cell_type": "code",
      "metadata": {
        "id": "B-2ClvuX-_Jk",
        "outputId": "b39c9f41-cb47-4d4c-ba5f-8eb389f1b211",
        "colab": {
          "base_uri": "https://localhost:8080/"
        }
      },
      "source": [
        "#Question No 3\n",
        "#Write a code snippet to find the dimensions of a ndarray and its size.\n",
        "\n",
        "import numpy as np\n",
        "\n",
        "a = np.array([2,3,4,5,6])\n",
        "print(type(a))\n",
        "\n",
        "print (a.size)   # output: 5\n",
        "print (a.ndim)  # output: 1\n",
        "print (a.shape)  # output: (5, )"
      ],
      "execution_count": null,
      "outputs": [
        {
          "output_type": "stream",
          "text": [
            "<class 'numpy.ndarray'>\n",
            "5\n",
            "1\n",
            "(5,)\n"
          ],
          "name": "stdout"
        }
      ]
    },
    {
      "cell_type": "code",
      "metadata": {
        "id": "kd_FCY21BHfX",
        "outputId": "ace3b235-510b-42d1-e996-836bd057ddf7",
        "colab": {
          "base_uri": "https://localhost:8080/"
        }
      },
      "source": [
        "#Question No 4\n",
        "#How to convert a 1D array into a 2D array? Demonstrate with the help of a code snippet\n",
        "#Hint: np.newaxis, np.expand_dims\n",
        "\n",
        "import numpy as np\n",
        "\n",
        "a = np.array([1,2,3,4,5])\n",
        "print (a.shape)    # 1D numpy array output: (5,)\n",
        "\n",
        "a2 = a [np.newaxis, :]\n",
        "print (a2.shape)    # Converting 1D to 2D numpy array using np.newaxis output: (1,5)\n",
        "\n",
        "a3 = np.expand_dims (a, axis=1)\n",
        "print (a3.shape)    # Converting 1D to 2D numpy array using np.expand_dim output: (5,1) will add an axis at index position 1#"
      ],
      "execution_count": null,
      "outputs": [
        {
          "output_type": "stream",
          "text": [
            "(5,)\n",
            "(1, 5)\n",
            "(5, 1)\n"
          ],
          "name": "stdout"
        }
      ]
    },
    {
      "cell_type": "code",
      "metadata": {
        "id": "8zozWnvJK7UX",
        "outputId": "d3777ca4-4bd1-48b0-edc2-c61ff52f448d",
        "colab": {
          "base_uri": "https://localhost:8080/"
        }
      },
      "source": [
        "#Question No 5\n",
        "#Consider two square numpy arrays. Stack them vertically and horizontally. Hint: Use vstack(), hstack()\n",
        "\n",
        "import numpy as np\n",
        "\n",
        "a = np.array ([[1,2], [3,4]])\n",
        "b = np.array ([[5,6], [7,8]])\n",
        "\n",
        "print (\"Vertically Stacked:\\n\", np.vstack((a,b)))\n",
        "print (\"Horizontaly Stacked:\\n\", np.hstack((a,b)))"
      ],
      "execution_count": null,
      "outputs": [
        {
          "output_type": "stream",
          "text": [
            "Vertically Stacked:\n",
            " [[1 2]\n",
            " [3 4]\n",
            " [5 6]\n",
            " [7 8]]\n",
            "Horizontaly Stacked:\n",
            " [[1 2 5 6]\n",
            " [3 4 7 8]]\n"
          ],
          "name": "stdout"
        }
      ]
    },
    {
      "cell_type": "code",
      "metadata": {
        "id": "RXhr27PxM-uN",
        "outputId": "3d56a128-fe73-4eae-f808-7cf67b6b6ac2",
        "colab": {
          "base_uri": "https://localhost:8080/"
        }
      },
      "source": [
        "#Question No 6\n",
        "#How to get unique items and counts of unique items?\n",
        "\n",
        "a = [2,3,4,4,5,6,6,6,7,8,8,9,0]\n",
        "\n",
        "l=[]\n",
        "count = 0\n",
        "\n",
        "for i in a:\n",
        "  if i not in l:\n",
        "    count += 1\n",
        "    l.append(i)\n",
        "\n",
        "print (\"Unique item count is:\", count)\n",
        "print (\"Unique item are:\", l)\n",
        "\n"
      ],
      "execution_count": null,
      "outputs": [
        {
          "output_type": "stream",
          "text": [
            "Unique item count is: 9\n",
            "Unique item are: [2, 3, 4, 5, 6, 7, 8, 9, 0]\n"
          ],
          "name": "stdout"
        }
      ]
    }
  ]
}
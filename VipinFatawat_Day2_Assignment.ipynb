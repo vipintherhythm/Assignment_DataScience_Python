{
  "nbformat": 4,
  "nbformat_minor": 0,
  "metadata": {
    "colab": {
      "name": "VipinFatawat_Day2_Assignment.ipynb",
      "provenance": [],
      "collapsed_sections": []
    },
    "kernelspec": {
      "name": "python3",
      "display_name": "Python 3"
    }
  },
  "cells": [
    {
      "cell_type": "code",
      "metadata": {
        "id": "1Gkd8LKh3-2Y",
        "outputId": "04725f6a-9d01-4a0b-dc9f-88aee7a22893",
        "colab": {
          "base_uri": "https://localhost:8080/"
        }
      },
      "source": [
        "#Question No 1.\n",
        "#Create an empty list. Accept 10 numbers from the user and append to it the list if it is an even number.9\n",
        "\n",
        "\n",
        "l=[] #empty List\n",
        "\n",
        "for i in range(0,10):\n",
        "  n = int(input(\"Enter number of elements : \")) #Accept 10 Input from User\n",
        "  if (n%2 == 0):\n",
        "    l.append(n) # Even No added to the list\n",
        "print(\" \")\n",
        "print (\"Final list is\", l)\n"
      ],
      "execution_count": null,
      "outputs": [
        {
          "output_type": "stream",
          "text": [
            "Enter number of elements : 1\n",
            "Enter number of elements : 2\n",
            "Enter number of elements : 3\n",
            "Enter number of elements : 4\n",
            "Enter number of elements : 5\n",
            "Enter number of elements : 6\n",
            "Enter number of elements : 7\n",
            "Enter number of elements : 8\n",
            "Enter number of elements : 9\n",
            "Enter number of elements : 0\n",
            " \n",
            "Final list is [2, 4, 6, 8, 0]\n"
          ],
          "name": "stdout"
        }
      ]
    },
    {
      "cell_type": "code",
      "metadata": {
        "id": "E0ORZ-Q6AAsp",
        "outputId": "fa1e47a1-3f7e-492c-e645-f0aa24740e9e",
        "colab": {
          "base_uri": "https://localhost:8080/"
        }
      },
      "source": [
        "#Question No 2 - List Comprehensive\n",
        "\n",
        "list1=[1,2,3,4,5,6,7,8,9,10]\n",
        "print(\"list1\",list1)\n",
        "list2=[22,33,11,55,66,44,77,99,00]\n",
        "print(\"list2\",list2)\n",
        "\n",
        "#append(x)\n",
        "list3.append(26)\n",
        "print(\"Append\",list3)\n",
        "\n",
        "#extend(iterable)\n",
        "list1.extend(list3)\n",
        "print(\"Extend\",list1)\n",
        "\n",
        "#remove(x)\n",
        "list1.remove(10)\n",
        "print(\"Remove\",list1)\n",
        "\n",
        "#sort()\n",
        "list2.sort()\n",
        "print(\"Sort\",list2)\n",
        "\n",
        "#Iterating through String\n",
        "a = []\n",
        "for b in 'Vipin':\n",
        "    a.append(b)\n",
        "print(\"Iterating through String\",a)\n",
        "\n",
        "#Iterating through a String using List Comprehensive\n",
        "a = [ b for b in 'Vipin' ]\n",
        "print(\"Iterating through a String using List Comprehensive\",a)\n",
        "\n",
        "#if with List Comprehension\n",
        "a = [ x for x in range(20) if x % 2 == 0]\n",
        "print(\"if with List Comprehension\",a)\n",
        "\n",
        "#Nested IF with List Comprehension\n",
        "a = [y for y in range(100) if y % 2 == 0 if y % 5 == 0]\n",
        "print(\"Nested IF with List Comprehension\",a)\n",
        "\n",
        "#if...else With List Comprehension\n",
        "obj = [\"Even\" if i%2==0 else \"Odd\" for i in range(10)]\n",
        "print(\"if...else With List Comprehension\",obj)"
      ],
      "execution_count": null,
      "outputs": [
        {
          "output_type": "stream",
          "text": [
            "list1 [1, 2, 3, 4, 5, 6, 7, 8, 9, 10]\n",
            "list2 [22, 33, 11, 55, 66, 44, 77, 99, 0]\n",
            "Append [21, 22, 23, 24, 26, 27, 26, 26, 26, 26]\n",
            "Extend [1, 2, 3, 4, 5, 6, 7, 8, 9, 10, 21, 22, 23, 24, 26, 27, 26, 26, 26, 26]\n",
            "Remove [1, 2, 3, 4, 5, 6, 7, 8, 9, 21, 22, 23, 24, 26, 27, 26, 26, 26, 26]\n",
            "Sort [0, 11, 22, 33, 44, 55, 66, 77, 99]\n",
            "Iterating through String ['V', 'i', 'p', 'i', 'n']\n",
            "Iterating through a String using List Comprehensive ['V', 'i', 'p', 'i', 'n']\n",
            "if with List Comprehension [0, 2, 4, 6, 8, 10, 12, 14, 16, 18]\n",
            "Nested IF with List Comprehension [0, 10, 20, 30, 40, 50, 60, 70, 80, 90]\n",
            "if...else With List Comprehension ['Even', 'Odd', 'Even', 'Odd', 'Even', 'Odd', 'Even', 'Odd', 'Even', 'Odd']\n"
          ],
          "name": "stdout"
        }
      ]
    },
    {
      "cell_type": "code",
      "metadata": {
        "id": "ohQzkeG4Krab",
        "outputId": "04dcf028-7cab-4f4b-8523-6d5c4c827744",
        "colab": {
          "base_uri": "https://localhost:8080/"
        }
      },
      "source": [
        "# Question No 3\n",
        "# write a program that generates a dictionary d which contains (i, i*i), where i is from 1 to n (both included).\n",
        "# Then you have to just print this dictionary d.\n",
        "\n",
        "#Example: Input: 8 Output: {1: 1, 2: 4, 3: 9, 4: 16, 5: 25, 6: 36, 7: 49, 8: 64}\n",
        "\n",
        "n=int(input(\"Enter a number: \"))\n",
        "\n",
        "d= dict()\n",
        "for i in range(1, n+1):\n",
        "  d[i]=i*i\n",
        "\n",
        "print(d)"
      ],
      "execution_count": null,
      "outputs": [
        {
          "output_type": "stream",
          "text": [
            "Enter a number: 4\n",
            "{1: 1, 2: 4, 3: 9, 4: 16}\n"
          ],
          "name": "stdout"
        }
      ]
    },
    {
      "cell_type": "code",
      "metadata": {
        "id": "0K3X8pcN3UYs",
        "outputId": "e4e66c91-b4be-45d9-d8e1-6f4d0b85feca",
        "colab": {
          "base_uri": "https://localhost:8080/"
        }
      },
      "source": [
        "#Question 4\n",
        "# Robot \n",
        "\n",
        "import math\n",
        "x=int(input())\n",
        "dict1={\"UP\":0,\"DOWN\":0,\"LEFT\":0,\"RIGHT\":0}\n",
        "for i in range(x):\n",
        "    y=input().split()\n",
        "    dict1[y[0].upper()]=int(y[1])\n",
        "print(dict1)\n",
        "\n",
        "dist=math.sqrt((dict1[\"UP\"]-dict1[\"DOWN\"])**2 + (dict1[\"LEFT\"] - dict1[\"RIGHT\"])**2)\n",
        "dist=int(round(dist))\n",
        "print(dist)\n"
      ],
      "execution_count": null,
      "outputs": [
        {
          "output_type": "stream",
          "text": [
            "4\n",
            "UP 5\n",
            "DOWN 3\n",
            "LEFT 3\n",
            "RIGHT 2\n",
            "{'UP': 5, 'DOWN': 3, 'LEFT': 3, 'RIGHT': 2}\n",
            "2\n"
          ],
          "name": "stdout"
        }
      ]
    }
  ]
}
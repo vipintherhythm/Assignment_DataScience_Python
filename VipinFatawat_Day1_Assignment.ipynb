{
  "nbformat": 4,
  "nbformat_minor": 0,
  "metadata": {
    "colab": {
      "name": "VipinFatawat_Day1_Assignment.ipynb",
      "provenance": [],
      "collapsed_sections": []
    },
    "kernelspec": {
      "name": "python3",
      "display_name": "Python 3"
    }
  },
  "cells": [
    {
      "cell_type": "code",
      "metadata": {
        "id": "nO7p56CJgMaJ"
      },
      "source": [
        "# Question No 1\n",
        "#Given the following jumbled word, OBANWRI guess the correct English word.\n",
        "#Answer - B. RAINBOW"
      ],
      "execution_count": null,
      "outputs": []
    },
    {
      "cell_type": "markdown",
      "metadata": {
        "id": "sgCIFd2dgNHH"
      },
      "source": [
        ""
      ]
    },
    {
      "cell_type": "code",
      "metadata": {
        "id": "nNorml8jgZeb",
        "outputId": "c7780301-071e-4739-9dbc-2d464d7801cc",
        "colab": {
          "base_uri": "https://localhost:8080/"
        }
      },
      "source": [
        "# Question No 2\n",
        "# Write a program which prints “LETS UPGRADE”. (Please note that you have to print in ALL CAPS as given)\n",
        "print (\"LETS UPGRADE\")\n"
      ],
      "execution_count": null,
      "outputs": [
        {
          "output_type": "stream",
          "text": [
            "LETS UPGRADE\n"
          ],
          "name": "stdout"
        }
      ]
    },
    {
      "cell_type": "code",
      "metadata": {
        "id": "sYsf6jcmgNq4",
        "outputId": "d778acc1-ae60-48c1-8050-675273ccd9d5",
        "colab": {
          "base_uri": "https://localhost:8080/"
        }
      },
      "source": [
        "# Question No 3\n",
        "# Write a program that takes cost price and selling price as input and displays whether the transaction is a\n",
        "#Profit or a Loss or Neither.\n",
        "#INPUT FORMAT\n",
        "#The first line contains the cost price.\n",
        "#The second line contains the selling price.\n",
        "#OUTPUT FORMAT\n",
        "#Print \"Profit\" if the transaction is a profit or \"Loss\" if it is a loss. If it is neither\n",
        "#profit nor loss, print \"Neither\". (You must not have quotes in your output)\n",
        "\n",
        "cost_p=int(input())\n",
        "selling_p=int(input())\n",
        "\n",
        "if cost_p > selling_p:\n",
        "  print (\"Loss\")\n",
        "elif cost_p < selling_p:\n",
        "  print (\"Profit\")\n",
        "elif cost_p == selling_p:\n",
        "  print (\"Neither\")\n"
      ],
      "execution_count": null,
      "outputs": [
        {
          "output_type": "stream",
          "text": [
            "20\n",
            "30\n",
            "Profit\n"
          ],
          "name": "stdout"
        }
      ]
    },
    {
      "cell_type": "code",
      "metadata": {
        "id": "4c4pD4BUgOpI",
        "outputId": "8fc83aa8-04ca-4ac6-c36a-169b0f2ba644",
        "colab": {
          "base_uri": "https://localhost:8080/"
        }
      },
      "source": [
        "# Question No 4\n",
        "#Write a program that takes an amount in Euros as input. You need to find its equivalent in\n",
        "#Rupees and display it. Assume 1 Euro equals Rs. 80.\n",
        "#Please note that you are expected to stick to the given input and output\n",
        "#format as in sample test cases. Please don't add any extra lines such as\n",
        "#'Enter a number', etc.\n",
        "#Your program should take only one number as input and display the output.\n",
        "\n",
        "euro_value=80;\n",
        "euro_input=int(input())\n",
        "\n",
        "conRupee_value=euro_input*euro_value\n",
        "print (conRupee_value)"
      ],
      "execution_count": null,
      "outputs": [
        {
          "output_type": "stream",
          "text": [
            "18\n",
            "1440\n"
          ],
          "name": "stdout"
        }
      ]
    }
  ]
}